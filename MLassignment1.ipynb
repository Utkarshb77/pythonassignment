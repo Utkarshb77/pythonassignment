{
 "cells": [
  {
   "cell_type": "code",
   "execution_count": 4,
   "id": "a0b958c1-a730-4e9a-bab0-e4940e456def",
   "metadata": {},
   "outputs": [],
   "source": [
    "import numpy as np"
   ]
  },
  {
   "cell_type": "code",
   "execution_count": 5,
   "id": "83c1a3ab-158c-48b7-9608-188e08390570",
   "metadata": {},
   "outputs": [
    {
     "name": "stdout",
     "output_type": "stream",
     "text": [
      "[0 1 2 3 4 5]\n",
      "int32\n"
     ]
    }
   ],
   "source": [
    "# Q1\n",
    "a = np.arange(0,6)\n",
    "print(a)\n",
    "print(a.dtype)"
   ]
  },
  {
   "cell_type": "code",
   "execution_count": 6,
   "id": "3a2abc30-c309-4046-9765-9c9fe4c84e35",
   "metadata": {},
   "outputs": [
    {
     "data": {
      "text/plain": [
       "True"
      ]
     },
     "execution_count": 6,
     "metadata": {},
     "output_type": "execute_result"
    }
   ],
   "source": [
    "# Q2:\n",
    "a2 = np.arange(12 , dtype=float)\n",
    "a2.dtype == np.float64"
   ]
  },
  {
   "cell_type": "code",
   "execution_count": 7,
   "id": "9b225020-7ccb-471f-a672-1e2f5b6f9ecd",
   "metadata": {},
   "outputs": [
    {
     "data": {
      "text/plain": [
       "array([1.+2.j, 3.+4.j, 5.+6.j])"
      ]
     },
     "execution_count": 7,
     "metadata": {},
     "output_type": "execute_result"
    }
   ],
   "source": [
    "# Q3\n",
    "a3 =  np.array([1+2j, 3+4j, 5+6j])\n",
    "a3"
   ]
  },
  {
   "cell_type": "code",
   "execution_count": 8,
   "id": "8b33ef43-dc78-4be0-a808-41f637fcd8d5",
   "metadata": {},
   "outputs": [
    {
     "name": "stdout",
     "output_type": "stream",
     "text": [
      "float32\n"
     ]
    }
   ],
   "source": [
    "# Q4\n",
    "a4 = np.array([1, 2, 3, 4])\n",
    "arr  = a4.astype(np.float32)\n",
    "print(arr.dtype)"
   ]
  },
  {
   "cell_type": "code",
   "execution_count": 9,
   "id": "21f2c5a9-38ce-4e62-90d6-328d81efb40b",
   "metadata": {},
   "outputs": [
    {
     "data": {
      "text/plain": [
       "array([5.677778 , 7.7777777, 1.7777778], dtype=float32)"
      ]
     },
     "execution_count": 9,
     "metadata": {},
     "output_type": "execute_result"
    }
   ],
   "source": [
    "# Q5\n",
    "a5 = np.array([5.6777777, 7.77777777 , 1.7777777722] ,dtype = np.float64)\n",
    "arr = a5.astype(np.float32)\n",
    "arr"
   ]
  },
  {
   "cell_type": "code",
   "execution_count": 10,
   "id": "138f3c1d-2685-46d4-bcd2-c86216e188b6",
   "metadata": {},
   "outputs": [
    {
     "data": {
      "text/plain": [
       "((2, 2), 4, dtype('int32'))"
      ]
     },
     "execution_count": 10,
     "metadata": {},
     "output_type": "execute_result"
    }
   ],
   "source": [
    "# Q6\n",
    "def array_attributes(arr):\n",
    "    return arr.shape , arr.size , arr.dtype\n",
    "arr = np.array([[1, 2], [3, 4]])\n",
    "array_attributes(arr)"
   ]
  },
  {
   "cell_type": "code",
   "execution_count": 11,
   "id": "74f7607c-8561-457e-9209-2087cd86c15e",
   "metadata": {},
   "outputs": [
    {
     "data": {
      "text/plain": [
       "2"
      ]
     },
     "execution_count": 11,
     "metadata": {},
     "output_type": "execute_result"
    }
   ],
   "source": [
    "# Q7\n",
    "def array_dimension(arr):\n",
    "    return arr.ndim\n",
    "arr = np.array([[1, 2], [3, 4]])\n",
    "array_dimension(arr)"
   ]
  },
  {
   "cell_type": "code",
   "execution_count": 12,
   "id": "d6310455-c1e2-4042-a7d6-ab84899374b5",
   "metadata": {},
   "outputs": [
    {
     "name": "stdout",
     "output_type": "stream",
     "text": [
      "(4, 12)\n"
     ]
    }
   ],
   "source": [
    "# Q8:\n",
    "def item_size_info(arr):\n",
    "    return arr.itemsize, arr.nbytes\n",
    "\n",
    "arr = np.array([1, 2, 3])\n",
    "print(item_size_info(arr))"
   ]
  },
  {
   "cell_type": "code",
   "execution_count": 13,
   "id": "1e33511f-e092-4418-8a96-df2da8da1ded",
   "metadata": {},
   "outputs": [
    {
     "data": {
      "text/plain": [
       "(8, 4)"
      ]
     },
     "execution_count": 13,
     "metadata": {},
     "output_type": "execute_result"
    }
   ],
   "source": [
    "# Q9:\n",
    "#  Strides in NumPy tell you how many bytes to step in each dimension when traversing the array.\n",
    "def array_strides(arr):\n",
    "    return arr.strides\n",
    "arr=np.array([[1,2] , [4,7]])\n",
    "array_strides(arr)"
   ]
  },
  {
   "cell_type": "code",
   "execution_count": 14,
   "id": "38651d3a-941c-404e-9d2b-7cc826149391",
   "metadata": {},
   "outputs": [
    {
     "name": "stdout",
     "output_type": "stream",
     "text": [
      "((2, 2), (8, 4))\n"
     ]
    }
   ],
   "source": [
    "# Q10:\n",
    "def shape_stride_relationship(arr):\n",
    "    return arr.shape, arr.strides\n",
    "arr = np.array([[1, 2], [3, 4]])\n",
    "print(shape_stride_relationship(arr))"
   ]
  },
  {
   "cell_type": "code",
   "execution_count": 15,
   "id": "0b2d4c34-9b4a-4923-8754-904de72c2ca4",
   "metadata": {},
   "outputs": [
    {
     "name": "stdout",
     "output_type": "stream",
     "text": [
      "[0. 0. 0. 0. 0.]\n"
     ]
    }
   ],
   "source": [
    "# Q11:\n",
    "def create_zeros_array(n):\n",
    "    return np.zeros(n)\n",
    "print(create_zeros_array(5))"
   ]
  },
  {
   "cell_type": "code",
   "execution_count": 16,
   "id": "f5c9b735-e738-4100-824b-1fb06fc44da0",
   "metadata": {},
   "outputs": [
    {
     "name": "stdout",
     "output_type": "stream",
     "text": [
      "[[1. 1. 1.]\n",
      " [1. 1. 1.]]\n"
     ]
    }
   ],
   "source": [
    "# Q12\n",
    "def create_ones_matrix(rows, cols):\n",
    "    return np.ones((rows, cols))\n",
    "print(create_ones_matrix(2, 3))"
   ]
  },
  {
   "cell_type": "code",
   "execution_count": 17,
   "id": "f79e5c1d-54d2-4cbd-8f53-9ac6783a9c92",
   "metadata": {},
   "outputs": [
    {
     "name": "stdout",
     "output_type": "stream",
     "text": [
      "[0 2 4 6 8]\n"
     ]
    }
   ],
   "source": [
    "# Q13\n",
    "def generate_range_array(start, stop, step):\n",
    "    return np.arange(start, stop, step)\n",
    "print(generate_range_array(0, 10, 2))"
   ]
  },
  {
   "cell_type": "code",
   "execution_count": 18,
   "id": "cd174849-9e3a-43cb-86d6-b39092226902",
   "metadata": {},
   "outputs": [
    {
     "name": "stdout",
     "output_type": "stream",
     "text": [
      "[0.   0.25 0.5  0.75 1.  ]\n"
     ]
    }
   ],
   "source": [
    "# Q14\n",
    "def generate_linear_space(start, stop, num):\n",
    "    return np.linspace(start, stop, num)\n",
    "print(generate_linear_space(0, 1, 5))"
   ]
  },
  {
   "cell_type": "code",
   "execution_count": 19,
   "id": "62cd34a8-9f34-43b8-821c-e2ede100e31a",
   "metadata": {},
   "outputs": [
    {
     "name": "stdout",
     "output_type": "stream",
     "text": [
      "[[1. 0. 0.]\n",
      " [0. 1. 0.]\n",
      " [0. 0. 1.]]\n"
     ]
    }
   ],
   "source": [
    "# Q15\n",
    "def create_identity_matrix(n):\n",
    "    return np.eye(n)\n",
    "print(create_identity_matrix(3))"
   ]
  },
  {
   "cell_type": "code",
   "execution_count": 20,
   "id": "23d650a9-51eb-4e7f-9a22-3d91f068fc97",
   "metadata": {},
   "outputs": [
    {
     "name": "stdout",
     "output_type": "stream",
     "text": [
      "[1 2 3 4]\n"
     ]
    }
   ],
   "source": [
    "# Q16\n",
    "def list_to_numpy_array(py_list):\n",
    "    return np.array(py_list)\n",
    "print(list_to_numpy_array([1, 2, 3, 4]))"
   ]
  },
  {
   "cell_type": "code",
   "execution_count": 21,
   "id": "5f27b0b1-3c04-47fa-a7ef-a6d82ddd26fe",
   "metadata": {},
   "outputs": [
    {
     "name": "stdout",
     "output_type": "stream",
     "text": [
      "[10 20 30 40]\n",
      "[10 20 30 40]\n"
     ]
    }
   ],
   "source": [
    "# Q17\n",
    "arr = np.array([10, 20, 30, 40])\n",
    "newarr = arr.view()\n",
    "print(arr)\n",
    "print(newarr)"
   ]
  },
  {
   "cell_type": "code",
   "execution_count": 22,
   "id": "25bdc8df-d331-4189-9b35-e81f5b914254",
   "metadata": {},
   "outputs": [
    {
     "name": "stdout",
     "output_type": "stream",
     "text": [
      "[[1 2]\n",
      " [3 4]\n",
      " [5 6]\n",
      " [7 8]]\n",
      "[[1 2 5 6]\n",
      " [3 4 7 8]]\n"
     ]
    }
   ],
   "source": [
    "# Q18\n",
    "def concatarray(arr1, arr2, axis=0):\n",
    "    return np.concatenate((arr1, arr2), axis=axis)\n",
    "a = np.array([[1, 2], [3, 4]])\n",
    "b = np.array([[5, 6], [7, 8]])\n",
    "print(concatarray(a, b, axis=0))  # Vertical concat\n",
    "print(concatarray(a, b, axis=1))  # Horizontal concat"
   ]
  },
  {
   "cell_type": "code",
   "execution_count": 23,
   "id": "e1bf4147-06c5-40fb-ac5b-123e50ef689d",
   "metadata": {},
   "outputs": [
    {
     "name": "stdout",
     "output_type": "stream",
     "text": [
      "[[ 1 10 20]\n",
      " [ 2 30 40]\n",
      " [ 3 50 60]]\n"
     ]
    }
   ],
   "source": [
    "# Q19\n",
    "def concathor(a, b):\n",
    "    if a.shape[0] != b.shape[0]:\n",
    "        raise ValueError(\"Arrays must have the same number of rows to concatenate horizontally.\")\n",
    "    return np.concatenate((a, b), axis=1)\n",
    "a = np.array([[1], [2], [3]])\n",
    "b = np.array([[10, 20], [30, 40], [50, 60]])\n",
    "print(concathor(a, b))"
   ]
  },
  {
   "cell_type": "code",
   "execution_count": 24,
   "id": "2a5c5f80-a051-4e32-82be-29668045e6bf",
   "metadata": {},
   "outputs": [
    {
     "name": "stdout",
     "output_type": "stream",
     "text": [
      "[[1 2]\n",
      " [3 4]\n",
      " [5 6]]\n"
     ]
    }
   ],
   "source": [
    "# Q20\n",
    "def vertical_stack(array_list):\n",
    "    return np.vstack(array_list)\n",
    "arrays = [np.array([1, 2]), np.array([3, 4]), np.array([5, 6])]\n",
    "print(vertical_stack(arrays))"
   ]
  },
  {
   "cell_type": "code",
   "execution_count": 25,
   "id": "6a5b8dfc-521c-44aa-9f0c-7fa5baf60159",
   "metadata": {},
   "outputs": [
    {
     "name": "stdout",
     "output_type": "stream",
     "text": [
      "[1 3 5 7 9]\n"
     ]
    }
   ],
   "source": [
    "# Q21\n",
    "def genarr(start,stop,step):\n",
    "    return np.arange(start,stop+1,step)\n",
    "print(genarr(1,10,2))"
   ]
  },
  {
   "cell_type": "code",
   "execution_count": 26,
   "id": "3894bf78-bd46-44c0-be1e-113c9cb2bb44",
   "metadata": {},
   "outputs": [
    {
     "name": "stdout",
     "output_type": "stream",
     "text": [
      "[0.         0.11111111 0.22222222 0.33333333 0.44444444 0.55555556\n",
      " 0.66666667 0.77777778 0.88888889 1.        ]\n"
     ]
    }
   ],
   "source": [
    "# Q22\n",
    "arr = np.linspace(0,1,10)\n",
    "print(arr)"
   ]
  },
  {
   "cell_type": "code",
   "execution_count": 27,
   "id": "5024dc4e-153b-4f57-b348-6163091943ad",
   "metadata": {},
   "outputs": [
    {
     "data": {
      "text/plain": [
       "array([   1.        ,    5.62341325,   31.6227766 ,  177.827941  ,\n",
       "       1000.        ])"
      ]
     },
     "execution_count": 27,
     "metadata": {},
     "output_type": "execute_result"
    }
   ],
   "source": [
    "# Q23\n",
    "spacedarr = np.logspace(0, 3, 5)  # log10(1) = 0, log10(1000) = 3\n",
    "spacedarr"
   ]
  },
  {
   "cell_type": "code",
   "execution_count": 28,
   "id": "8ee3b526-d351-4b80-b14a-cd377e4a3ae6",
   "metadata": {},
   "outputs": [
    {
     "name": "stdout",
     "output_type": "stream",
     "text": [
      "    A   B   C\n",
      "0  67  79  39\n",
      "1  71  69  42\n",
      "2   1  50  67\n",
      "3  82  85  82\n",
      "4  90  51  17\n"
     ]
    }
   ],
   "source": [
    "# Q24\n",
    "import pandas as pd\n",
    "def create_dataframe():\n",
    "    data = np.random.randint(1, 101, size=(5, 3))\n",
    "    df = pd.DataFrame(data, columns=['A', 'B', 'C'])\n",
    "    return df\n",
    "print(create_dataframe())"
   ]
  },
  {
   "cell_type": "code",
   "execution_count": 29,
   "id": "b8184151-e87f-4d4a-8e77-53353e635358",
   "metadata": {},
   "outputs": [],
   "source": [
    "# Q25"
   ]
  },
  {
   "cell_type": "code",
   "execution_count": 30,
   "id": "e5cee6cb-d12e-43f4-b11b-cbde5d757a47",
   "metadata": {},
   "outputs": [
    {
     "data": {
      "text/plain": [
       "30"
      ]
     },
     "execution_count": 30,
     "metadata": {},
     "output_type": "execute_result"
    }
   ],
   "source": [
    "# Q26\n",
    "arr = np.array([10, 20, 30, 40, 50])\n",
    "arr[2]"
   ]
  },
  {
   "cell_type": "code",
   "execution_count": 31,
   "id": "f3ab651f-b0e3-43eb-89dc-a1d6b549821d",
   "metadata": {},
   "outputs": [
    {
     "name": "stdout",
     "output_type": "stream",
     "text": [
      "6\n"
     ]
    }
   ],
   "source": [
    "# Q27\n",
    "arr = np.array([[1, 2, 3],[4, 5, 6],[7, 8, 9]])\n",
    "element = arr[1, 2]\n",
    "print(element)"
   ]
  },
  {
   "cell_type": "code",
   "execution_count": 32,
   "id": "75e62658-bd6f-4f9e-9679-7bc1f332255d",
   "metadata": {},
   "outputs": [
    {
     "name": "stdout",
     "output_type": "stream",
     "text": [
      "[ 6  8 10]\n"
     ]
    }
   ],
   "source": [
    "# Q28\n",
    "arr = np.array([1, 6, 3, 8, 5, 10])\n",
    "greaterthan5 = arr[arr > 5]\n",
    "print(greaterthan5)"
   ]
  },
  {
   "cell_type": "code",
   "execution_count": 33,
   "id": "6c63c93c-9ea0-46fe-b384-7f184733c62e",
   "metadata": {},
   "outputs": [
    {
     "name": "stdout",
     "output_type": "stream",
     "text": [
      "[2 3 4 5]\n"
     ]
    }
   ],
   "source": [
    "# Q29\n",
    "arr = np.array([0, 1, 2, 3, 4, 5, 6, 7])\n",
    "new = arr[2:6]\n",
    "print(new)"
   ]
  },
  {
   "cell_type": "code",
   "execution_count": 34,
   "id": "082c200b-156b-4c70-a509-12605bd2e486",
   "metadata": {},
   "outputs": [
    {
     "name": "stdout",
     "output_type": "stream",
     "text": [
      "[[2 3]\n",
      " [5 6]]\n"
     ]
    }
   ],
   "source": [
    "# Q30\n",
    "arr = np.array([[1, 2, 3],[4, 5, 6],[7, 8, 9]])\n",
    "new = arr[0:2, 1:3]  # Rows 0 to 1, Columns 1 to 2\n",
    "print(new)"
   ]
  },
  {
   "cell_type": "code",
   "execution_count": 35,
   "id": "1b53d0ca-f5e2-4770-be99-63d6cefb4cf4",
   "metadata": {},
   "outputs": [
    {
     "name": "stdout",
     "output_type": "stream",
     "text": [
      "[20 60 70]\n"
     ]
    }
   ],
   "source": [
    "# Q31\n",
    "arr = np.array([[10, 20, 30],[40, 50, 60],[70, 80, 90]])\n",
    "# Extract elements at positions (0,1) i.e 20, (1,2) i.e 60, and (2,0) i.e 70\n",
    "row_indices = [0, 1, 2] # You want to access row 0, then row 1, then row 2\n",
    "col_indices = [1, 2, 0] # From each of those rows, you want to access column 1, 2, and 0, respectively\n",
    "ans = arr[row_indices, col_indices]\n",
    "print(ans)"
   ]
  },
  {
   "cell_type": "code",
   "execution_count": 36,
   "id": "6b2ab393-c846-4bf0-a059-336d41059f37",
   "metadata": {},
   "outputs": [
    {
     "name": "stdout",
     "output_type": "stream",
     "text": [
      "[ 9 12  8]\n"
     ]
    }
   ],
   "source": [
    "arr = np.array([4, 9, 2, 12, 5, 8])\n",
    "threshold = 5\n",
    "ans = arr[arr > threshold]\n",
    "print(ans)"
   ]
  },
  {
   "cell_type": "code",
   "execution_count": 37,
   "id": "5126f58a-a7cb-4164-affe-4ae8ea7380e1",
   "metadata": {},
   "outputs": [
    {
     "name": "stdout",
     "output_type": "stream",
     "text": [
      "[[[ 0  1  2  3]\n",
      "  [ 4  5  6  7]\n",
      "  [ 8  9 10 11]]\n",
      "\n",
      " [[12 13 14 15]\n",
      "  [16 17 18 19]\n",
      "  [20 21 22 23]]]\n",
      "[ 6 23]\n"
     ]
    }
   ],
   "source": [
    "arr= np.arange(2*3*4).reshape(2, 3, 4)\n",
    "print(arr)\n",
    "# Suppose we want to extract elements at positions:\n",
    "# (0, 1, 2), (1, 2, 3)\n",
    "i = np.array([0, 1])\n",
    "j = np.array([1, 2])\n",
    "k = np.array([2, 3])\n",
    "ans = arr[i, j, k]\n",
    "print(ans)"
   ]
  },
  {
   "cell_type": "code",
   "execution_count": 38,
   "id": "8b202de1-eef1-4c98-8a78-4b1e3dee55c9",
   "metadata": {},
   "outputs": [
    {
     "name": "stdout",
     "output_type": "stream",
     "text": [
      "[7 8]\n"
     ]
    }
   ],
   "source": [
    "# Q34\n",
    "arr = np.array([3, 7, 10, 2, 8, 1, 9])\n",
    "ans = arr[(arr > 5) & (arr < 9)]\n",
    "print(ans)"
   ]
  },
  {
   "cell_type": "code",
   "execution_count": 39,
   "id": "7fd55bf8-fd8f-4957-91b8-cfb5ed3835d2",
   "metadata": {},
   "outputs": [
    {
     "name": "stdout",
     "output_type": "stream",
     "text": [
      "[ 7 12 54]\n"
     ]
    }
   ],
   "source": [
    "# Q35\n",
    "arr = np.array([[1, 4, 7],[ 12, 24, 36 ],[51, 54 , 57]])\n",
    "# Elements at (0,2), (1,0), (2,1)\n",
    "row_idx = np.array([0, 1, 2])\n",
    "col_idx = np.array([2, 0, 1])\n",
    "ans= arr[row_idx, col_idx]\n",
    "print(ans)"
   ]
  },
  {
   "cell_type": "code",
   "execution_count": 40,
   "id": "51ff586b-d2f7-4e28-b6b3-6e73ca08066e",
   "metadata": {},
   "outputs": [
    {
     "name": "stdout",
     "output_type": "stream",
     "text": [
      "[[6 7]\n",
      " [8 9]]\n"
     ]
    }
   ],
   "source": [
    "# Q36\n",
    "arr = np.array([[1, 2], [3, 4]])\n",
    "result = arr + 5\n",
    "print(result)"
   ]
  },
  {
   "cell_type": "code",
   "execution_count": 41,
   "id": "7f9710c4-94f5-42b3-a048-f03d90912e03",
   "metadata": {},
   "outputs": [
    {
     "name": "stdout",
     "output_type": "stream",
     "text": [
      "[[ 1  2  3  4]\n",
      " [10 12 14 16]\n",
      " [27 30 33 36]]\n"
     ]
    }
   ],
   "source": [
    "# Q37\n",
    "arr = np.array([[1, 2, 3, 4],\n",
    "                [5, 6, 7, 8],\n",
    "                [9,10,11,12]])\n",
    "scale = np.array([[1], [2], [3]]) \n",
    "result = arr * scale\n",
    "print(result)"
   ]
  },
  {
   "cell_type": "code",
   "execution_count": 42,
   "id": "28baaa16-7a3a-4782-8eea-8c0f16cbb62a",
   "metadata": {},
   "outputs": [
    {
     "name": "stdout",
     "output_type": "stream",
     "text": [
      "[[11 22 33]\n",
      " [14 25 36]\n",
      " [17 28 39]\n",
      " [20 31 42]]\n"
     ]
    }
   ],
   "source": [
    "# Q38\n",
    "arr = np.array([[1, 2, 3],\n",
    "                [4, 5, 6],\n",
    "                [7, 8, 9],\n",
    "                [10,11,12]]) \n",
    "row_add = np.array([[10, 20, 30]]) \n",
    "result = arr + row_add\n",
    "print(result)"
   ]
  },
  {
   "cell_type": "code",
   "execution_count": 43,
   "id": "5acae9b3-1418-4b6d-bb62-92749d6c54d4",
   "metadata": {},
   "outputs": [
    {
     "name": "stdout",
     "output_type": "stream",
     "text": [
      "[[11 21 31]\n",
      " [12 22 32]\n",
      " [13 23 33]]\n"
     ]
    }
   ],
   "source": [
    "# Q39\n",
    "a = np.array([[1], [2], [3]])\n",
    "b = np.array([[10, 20, 30]])  \n",
    "result = a + b \n",
    "print(result)"
   ]
  },
  {
   "cell_type": "code",
   "execution_count": 45,
   "id": "923443b8-895f-4b32-ac67-13a1272db453",
   "metadata": {},
   "outputs": [
    {
     "name": "stdout",
     "output_type": "stream",
     "text": [
      "[[22 28]\n",
      " [49 64]]\n"
     ]
    }
   ],
   "source": [
    "# Q40\n",
    "a = np.array([[1, 2, 3],\n",
    "              [4, 5, 6]])\n",
    "\n",
    "b = np.array([[1, 2],\n",
    "              [3, 4],\n",
    "              [5, 6]])\n",
    "\n",
    "result = np.dot(a,b)\n",
    "print(result)"
   ]
  },
  {
   "cell_type": "code",
   "execution_count": 46,
   "id": "3306e002-8951-4ee3-a0f2-e5599bdd4c75",
   "metadata": {},
   "outputs": [
    {
     "name": "stdout",
     "output_type": "stream",
     "text": [
      "[2.5 3.5 4.5]\n"
     ]
    }
   ],
   "source": [
    "# Q41\n",
    "arr = np.array([[1, 2, 3],\n",
    "                [4, 5, 6]])\n",
    "result = np.mean(arr, axis=0)\n",
    "print(result)"
   ]
  },
  {
   "cell_type": "code",
   "execution_count": 47,
   "id": "759ad4ac-04cd-4d34-b5af-edf554f5980a",
   "metadata": {},
   "outputs": [
    {
     "name": "stdout",
     "output_type": "stream",
     "text": [
      "[7 9]\n"
     ]
    }
   ],
   "source": [
    "# Q42\n",
    "arr = np.array([[1, 7, 3],\n",
    "                [4, 5, 9]])\n",
    "result = np.max(arr, axis=1)\n",
    "print(result)"
   ]
  },
  {
   "cell_type": "code",
   "execution_count": 48,
   "id": "3dfd8320-6efe-4ae5-a917-86a0668efeca",
   "metadata": {},
   "outputs": [
    {
     "name": "stdout",
     "output_type": "stream",
     "text": [
      "[1 0 1]\n"
     ]
    }
   ],
   "source": [
    "# Q43\n",
    "arr = np.array([[1, 7, 3],\n",
    "                [4, 5, 9]])\n",
    "result = np.argmax(arr, axis=0)\n",
    "print(result)"
   ]
  },
  {
   "cell_type": "code",
   "execution_count": 49,
   "id": "923ff072-e153-440c-baad-b7ffb847b463",
   "metadata": {},
   "outputs": [
    {
     "name": "stdout",
     "output_type": "stream",
     "text": [
      "[[ 3  5  7]\n",
      " [11 13 15]]\n"
     ]
    }
   ],
   "source": [
    "# Q44\n",
    "def moving_sum(row):\n",
    "    return np.convolve(row, np.ones(2, dtype=int), 'valid')\n",
    "arr = np.array([[1, 2, 3, 4],\n",
    "                [5, 6, 7, 8]])\n",
    "result = np.apply_along_axis(moving_sum, axis=1, arr=arr)\n",
    "print(result)"
   ]
  },
  {
   "cell_type": "code",
   "execution_count": 52,
   "id": "b92d58ed-1719-4e10-989f-5e85f5bb5b93",
   "metadata": {},
   "outputs": [
    {
     "name": "stdout",
     "output_type": "stream",
     "text": [
      "[ True  True  True]\n"
     ]
    }
   ],
   "source": [
    "# Q45\n",
    "arr = np.array([[2, 4, 6],\n",
    "                [8, 10, 12]])\n",
    "result = np.all(arr % 2 == 0 , axis = 0)\n",
    "print(result)"
   ]
  },
  {
   "cell_type": "code",
   "execution_count": 56,
   "id": "b8491f38-bf9a-45e4-a823-79bf7a1de87d",
   "metadata": {},
   "outputs": [
    {
     "name": "stdout",
     "output_type": "stream",
     "text": [
      "[[1 2 3]\n",
      " [4 5 6]]\n"
     ]
    }
   ],
   "source": [
    "# Q46\n",
    "arr = np.array([1,2,3,4,5,6])\n",
    "reshaped = arr.reshape(2,3)\n",
    "print(reshaped)"
   ]
  },
  {
   "cell_type": "code",
   "execution_count": 57,
   "id": "efa918fe-9e45-4a5e-bc41-1e350d3bc1ed",
   "metadata": {},
   "outputs": [
    {
     "name": "stdout",
     "output_type": "stream",
     "text": [
      "[1 2 3 4]\n"
     ]
    }
   ],
   "source": [
    "# Q47\n",
    "matrix = np.array([[1, 2], [3, 4]])\n",
    "flattened = matrix.flatten()\n",
    "print(flattened)"
   ]
  },
  {
   "cell_type": "code",
   "execution_count": 58,
   "id": "4f26a84d-3775-42e3-973e-0c3e3e0ddb19",
   "metadata": {},
   "outputs": [
    {
     "name": "stdout",
     "output_type": "stream",
     "text": [
      "[[1 2]\n",
      " [3 4]\n",
      " [5 6]\n",
      " [7 8]]\n"
     ]
    }
   ],
   "source": [
    "# Q48\n",
    "a = np.array([[1, 2], [3, 4]])\n",
    "b = np.array([[5, 6], [7, 8]])\n",
    "result = np.concatenate((a, b), axis=0) \n",
    "print(result)"
   ]
  },
  {
   "cell_type": "code",
   "execution_count": 59,
   "id": "3b2e4ff3-48a1-4d3f-bd49-2262b18ae19a",
   "metadata": {},
   "outputs": [
    {
     "name": "stdout",
     "output_type": "stream",
     "text": [
      "[array([[1, 2],\n",
      "       [5, 6]]), array([[3, 4],\n",
      "       [7, 8]])]\n"
     ]
    }
   ],
   "source": [
    "# Q49\n",
    "arr = np.array([[1, 2, 3, 4],\n",
    "                [5, 6, 7, 8]])\n",
    "result = np.split(arr, 2, axis=1)\n",
    "print(result)"
   ]
  },
  {
   "cell_type": "code",
   "execution_count": 60,
   "id": "f8c365ea-0eb1-46f4-830d-39a0adb10e73",
   "metadata": {},
   "outputs": [
    {
     "name": "stdout",
     "output_type": "stream",
     "text": [
      "Inserted: [10 20 25 30 40]\n",
      "Deleted: [10 30 40]\n"
     ]
    }
   ],
   "source": [
    "# Q50\n",
    "arr = np.array([10, 20, 30, 40])\n",
    "inserted = np.insert(arr, 2, 25)  \n",
    "deleted = np.delete(arr, 1) \n",
    "print(\"Inserted:\", inserted)\n",
    "print(\"Deleted:\", deleted)"
   ]
  },
  {
   "cell_type": "code",
   "execution_count": 61,
   "id": "b170cd33-91d6-458f-99e6-98d73de735a1",
   "metadata": {},
   "outputs": [
    {
     "name": "stdout",
     "output_type": "stream",
     "text": [
      "[5 7 9]\n"
     ]
    }
   ],
   "source": [
    "# Q51\n",
    "a = np.array([1, 2, 3])\n",
    "b = np.array([4, 5, 6])\n",
    "result = a + b\n",
    "print(result)"
   ]
  },
  {
   "cell_type": "code",
   "execution_count": 62,
   "id": "9a68bba5-8df3-41ca-8629-aa4e00fe1578",
   "metadata": {},
   "outputs": [
    {
     "name": "stdout",
     "output_type": "stream",
     "text": [
      "[4 5 6]\n"
     ]
    }
   ],
   "source": [
    "# Q52\n",
    "arr1 = np.array([5, 7, 9])\n",
    "arr2 = np.array([1, 2, 3])\n",
    "result = arr1 - arr2\n",
    "print(result)"
   ]
  },
  {
   "cell_type": "code",
   "execution_count": 63,
   "id": "ee411a95-28b0-4d50-ae2d-e8f9fa6f1bb1",
   "metadata": {},
   "outputs": [
    {
     "name": "stdout",
     "output_type": "stream",
     "text": [
      "[ 5 14 27]\n"
     ]
    }
   ],
   "source": [
    "# Q53\n",
    "result = arr1 * arr2\n",
    "print(result)"
   ]
  },
  {
   "cell_type": "code",
   "execution_count": 64,
   "id": "141c384b-a50b-4957-b697-1eac1b9bb94e",
   "metadata": {},
   "outputs": [
    {
     "name": "stdout",
     "output_type": "stream",
     "text": [
      "[5.  3.5 3. ]\n"
     ]
    }
   ],
   "source": [
    "# Q54\n",
    "result = arr1 / arr2\n",
    "print(result)"
   ]
  },
  {
   "cell_type": "code",
   "execution_count": 65,
   "id": "556ebbdf-e0e6-43b4-b19e-2b5fc47061a3",
   "metadata": {},
   "outputs": [
    {
     "name": "stdout",
     "output_type": "stream",
     "text": [
      "[  5  49 729]\n"
     ]
    }
   ],
   "source": [
    "# Q55\n",
    "result = arr1 ** arr2\n",
    "print(result)"
   ]
  },
  {
   "cell_type": "code",
   "execution_count": 66,
   "id": "a9ad4f14-2753-4456-9bb4-bcee8a0f761d",
   "metadata": {},
   "outputs": [
    {
     "name": "stdout",
     "output_type": "stream",
     "text": [
      "[1 1 1]\n"
     ]
    }
   ],
   "source": [
    "# Q56\n",
    "arr = np.array(['apple pie', 'banana pie', 'cherry pie'])\n",
    "count = np.char.count(arr, 'pie')\n",
    "print(count)"
   ]
  },
  {
   "cell_type": "code",
   "execution_count": 67,
   "id": "39838927-9b00-4c03-86dd-32b4fd8304bc",
   "metadata": {},
   "outputs": [
    {
     "name": "stdout",
     "output_type": "stream",
     "text": [
      "['H', 'WLD', 'PTH']\n"
     ]
    }
   ],
   "source": [
    "# Q57\n",
    "arr = np.array(['Hello', 'WorLD', 'PyTHon'])\n",
    "upper_chars = [''.join([ch for ch in word if ch.isupper()]) for word in arr]\n",
    "print(upper_chars)"
   ]
  },
  {
   "cell_type": "code",
   "execution_count": 68,
   "id": "9a9907d7-db49-4b11-8369-149a58d0f841",
   "metadata": {},
   "outputs": [
    {
     "name": "stdout",
     "output_type": "stream",
     "text": [
      "['apple tart' 'banana tart' 'cherry tart']\n"
     ]
    }
   ],
   "source": [
    "# Q58\n",
    "arr = np.array(['apple pie', 'banana pie', 'cherry pie'])\n",
    "replaced = np.char.replace(arr, 'pie', 'tart')\n",
    "print(replaced)"
   ]
  },
  {
   "cell_type": "code",
   "execution_count": 69,
   "id": "b2c97cb1-518f-402f-a338-aa8659231959",
   "metadata": {},
   "outputs": [
    {
     "name": "stdout",
     "output_type": "stream",
     "text": [
      "['Good Morning' 'Nice Job']\n"
     ]
    }
   ],
   "source": [
    "# Q59\n",
    "a = np.array(['Good', 'Nice'])\n",
    "b = np.array([' Morning', ' Job'])\n",
    "result = np.char.add(a, b)\n",
    "print(result)"
   ]
  },
  {
   "cell_type": "code",
   "execution_count": 74,
   "id": "c30ab5b1-2dbc-49ee-bbf5-e7ebded12ba4",
   "metadata": {},
   "outputs": [
    {
     "name": "stdout",
     "output_type": "stream",
     "text": [
      "6\n"
     ]
    }
   ],
   "source": [
    "# Q60\n",
    "arr = np.array(['apple', 'banana', 'cherry'])\n",
    "lengths = np.char.str_len(arr)\n",
    "maxl = np.max(lengths)\n",
    "print(maxl)"
   ]
  },
  {
   "cell_type": "code",
   "execution_count": 75,
   "id": "f439c9df-ba04-4741-a298-b8788fff2a08",
   "metadata": {},
   "outputs": [
    {
     "name": "stdout",
     "output_type": "stream",
     "text": [
      "Mean: 531.28\n",
      "Median: 545.0\n",
      "Variance: 79109.3416\n",
      "Std Dev: 281.2638291711183\n"
     ]
    }
   ],
   "source": [
    "# Q61\n",
    "arr = np.random.randint(1, 1001, 100)\n",
    "print(\"Mean:\", np.mean(arr))\n",
    "print(\"Median:\", np.median(arr))\n",
    "print(\"Variance:\", np.var(arr))\n",
    "print(\"Std Dev:\", np.std(arr))"
   ]
  },
  {
   "cell_type": "code",
   "execution_count": 76,
   "id": "666d24ba-3d33-40d0-9059-a22b2975407c",
   "metadata": {},
   "outputs": [
    {
     "name": "stdout",
     "output_type": "stream",
     "text": [
      "25th Percentile: 20.5\n",
      "75th Percentile: 72.0\n"
     ]
    }
   ],
   "source": [
    "# Q62\n",
    "\n",
    "arr = np.random.randint(1, 101, 50)\n",
    "p25 = np.percentile(arr, 25)\n",
    "p75 = np.percentile(arr, 75)\n",
    "print(\"25th Percentile:\", p25)\n",
    "print(\"75th Percentile:\", p75)"
   ]
  },
  {
   "cell_type": "code",
   "execution_count": 77,
   "id": "4010d613-1f9b-4f40-8964-8fac4aba39c5",
   "metadata": {},
   "outputs": [
    {
     "name": "stdout",
     "output_type": "stream",
     "text": [
      "[[ 1.         -0.09359027]\n",
      " [-0.09359027  1.        ]]\n"
     ]
    }
   ],
   "source": [
    "# Q63\n",
    "a = np.random.randint(1, 50, 10)\n",
    "b = np.random.randint(1, 50, 10)\n",
    "corr = np.corrcoef(a, b)\n",
    "print(corr)"
   ]
  },
  {
   "cell_type": "code",
   "execution_count": 78,
   "id": "cfc7d1dd-3201-4ea8-904d-b89ac7e7eabe",
   "metadata": {},
   "outputs": [
    {
     "name": "stdout",
     "output_type": "stream",
     "text": [
      "[[19 22]\n",
      " [43 50]]\n"
     ]
    }
   ],
   "source": [
    "# Q64\n",
    "a = np.array([[1, 2], [3, 4]])\n",
    "b = np.array([[5, 6], [7, 8]])\n",
    "result = np.dot(a, b)\n",
    "print(result)"
   ]
  },
  {
   "cell_type": "code",
   "execution_count": 79,
   "id": "e3c2379d-cb18-49bf-ac11-8b0ad959c040",
   "metadata": {},
   "outputs": [
    {
     "name": "stdout",
     "output_type": "stream",
     "text": [
      "10th: 14.9 50th: 57.0 90th: 90.5\n",
      "Q1: 32.5 Q3: 79.75\n"
     ]
    }
   ],
   "source": [
    "# Q65\n",
    "arr = np.random.randint(1, 100, 50)\n",
    "p10 = np.percentile(arr, 10)\n",
    "p50 = np.percentile(arr, 50)\n",
    "p90 = np.percentile(arr, 90)\n",
    "q1 = np.percentile(arr, 25)\n",
    "q3 = np.percentile(arr, 75)\n",
    "print(\"10th:\", p10, \"50th:\", p50, \"90th:\", p90)\n",
    "print(\"Q1:\", q1, \"Q3:\", q3)"
   ]
  },
  {
   "cell_type": "code",
   "execution_count": 80,
   "id": "573dd520-5bcf-4040-bdc2-246f414a800b",
   "metadata": {},
   "outputs": [
    {
     "name": "stdout",
     "output_type": "stream",
     "text": [
      "(array([2], dtype=int64),)\n"
     ]
    }
   ],
   "source": [
    "# Q66\n",
    "arr = np.array([10, 20, 30, 40])\n",
    "index = np.where(arr == 30)\n",
    "print(index)"
   ]
  },
  {
   "cell_type": "code",
   "execution_count": 81,
   "id": "12b4fffc-d9ab-42bd-9c11-09e0ad1c4317",
   "metadata": {},
   "outputs": [
    {
     "name": "stdout",
     "output_type": "stream",
     "text": [
      "[ 1 23 26 31 38 42 46 54 61 74]\n"
     ]
    }
   ],
   "source": [
    "# Q67\n",
    "arr = np.random.randint(1, 100, 10)\n",
    "sorted_arr = np.sort(arr)\n",
    "print(sorted_arr)"
   ]
  },
  {
   "cell_type": "code",
   "execution_count": 82,
   "id": "93ea1c97-8ae4-4faf-b2e7-e38fd5b60238",
   "metadata": {},
   "outputs": [
    {
     "name": "stdout",
     "output_type": "stream",
     "text": [
      "[23 42]\n"
     ]
    }
   ],
   "source": [
    "# Q68\n",
    "arr = np.array([5, 23, 15, 42, 8])\n",
    "filtered = arr[arr > 20]\n",
    "print(filtered)\n"
   ]
  },
  {
   "cell_type": "code",
   "execution_count": 83,
   "id": "e2a83bdd-c9d9-4f3e-b8c1-90826f4a34dc",
   "metadata": {},
   "outputs": [
    {
     "name": "stdout",
     "output_type": "stream",
     "text": [
      "[ 3  6  9 12 15 18 21 24 27]\n"
     ]
    }
   ],
   "source": [
    "# Q69\n",
    "arr = np.arange(1, 30)\n",
    "filtered = arr[arr % 3 == 0]\n",
    "print(filtered)"
   ]
  },
  {
   "cell_type": "code",
   "execution_count": 84,
   "id": "322fde25-1e48-440d-9e08-c218f3c28d88",
   "metadata": {},
   "outputs": [
    {
     "name": "stdout",
     "output_type": "stream",
     "text": [
      "[20 21 22 23 24 25 26 27 28 29 30 31 32 33 34 35 36 37 38 39 40]\n"
     ]
    }
   ],
   "source": [
    "# Q70\n",
    "arr = np.arange(10, 51)\n",
    "filtered = arr[(arr >= 20) & (arr <= 40)]\n",
    "print(filtered)"
   ]
  },
  {
   "cell_type": "code",
   "execution_count": 85,
   "id": "0f7f4e7a-99d8-4a72-a9ac-62ec967b7b8e",
   "metadata": {},
   "outputs": [
    {
     "name": "stdout",
     "output_type": "stream",
     "text": [
      "=\n"
     ]
    }
   ],
   "source": [
    "# Q71\n",
    "arr = np.array([1, 2, 3], dtype=np.int16)\n",
    "print(arr.dtype.byteorder)"
   ]
  },
  {
   "cell_type": "code",
   "execution_count": 87,
   "id": "cb19ba42-8f59-4306-a8dc-c35c08226215",
   "metadata": {},
   "outputs": [
    {
     "name": "stdout",
     "output_type": "stream",
     "text": [
      "[16777216    65536      256]\n"
     ]
    }
   ],
   "source": [
    "# Q72\n",
    "arr = np.array([1, 256, 65536], dtype=np.int32)\n",
    "arr.byteswap(inplace=True)\n",
    "print(arr)"
   ]
  },
  {
   "cell_type": "code",
   "execution_count": null,
   "id": "1c2d4b4e-f74d-4edf-8525-2020939f571d",
   "metadata": {},
   "outputs": [],
   "source": []
  }
 ],
 "metadata": {
  "kernelspec": {
   "display_name": "Python [conda env:base] *",
   "language": "python",
   "name": "conda-base-py"
  },
  "language_info": {
   "codemirror_mode": {
    "name": "ipython",
    "version": 3
   },
   "file_extension": ".py",
   "mimetype": "text/x-python",
   "name": "python",
   "nbconvert_exporter": "python",
   "pygments_lexer": "ipython3",
   "version": "3.12.7"
  }
 },
 "nbformat": 4,
 "nbformat_minor": 5
}
